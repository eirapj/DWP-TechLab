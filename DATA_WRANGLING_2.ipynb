{
  "nbformat": 4,
  "nbformat_minor": 0,
  "metadata": {
    "colab": {
      "provenance": []
    },
    "kernelspec": {
      "name": "python3",
      "display_name": "Python 3"
    },
    "language_info": {
      "name": "python"
    }
  },
  "cells": [
    {
      "cell_type": "code",
      "execution_count": null,
      "metadata": {
        "id": "tmt6SK46fRYl"
      },
      "outputs": [],
      "source": [
        "# 1. To delete missing values\n",
        "import pandas as pd\n",
        "\n",
        "# Sample DataFrame with missing values\n",
        "data = {'Age': [25, None, 30, 22, None],\n",
        "        'Gender': ['M','F','M','F',None]}\n",
        "\n",
        "df = pd.DataFrame(data)\n",
        "print(df)\n",
        "print(df.isna().sum())\n",
        "\n",
        "# Drop rows with any missing values\n",
        "df_complete_case = df.dropna()\n",
        "print(df_complete_case)"
      ]
    },
    {
      "cell_type": "code",
      "source": [
        "# 2. (a) Handling Missing Numerical Data (Mean or Median Imputation)\n",
        "\n",
        "# Mean Imputation\n",
        "df['Age_mean_imputed'] = df['Age'].fillna(df['Age'].mean()) #type(df['age'])\n",
        "print(df)\n",
        "\n",
        "# Median Imputation\n",
        "df['Age_median_imputed'] = df['Age'].fillna(df['Age'].median())\n",
        "print(df)"
      ],
      "metadata": {
        "id": "7afXuy7BfpXy"
      },
      "execution_count": null,
      "outputs": []
    },
    {
      "cell_type": "code",
      "source": [
        "# 2. (b) End of Distribution Imputation\n",
        "# Missing values can be replaced with a value at the end of the distribution, such as the minimum or maximum value.\n",
        "\n",
        "# Replace with minimum value\n",
        "df['Age_min_imputed'] = df['Age'].fillna(df['Age'].min())\n",
        "print(df)\n",
        "\n",
        "# Replace with maximum value\n",
        "df['Age_max_imputed'] = df['Age'].fillna(df['Age'].max())\n",
        "print(df)"
      ],
      "metadata": {
        "id": "J-mTk7qxfpUL"
      },
      "execution_count": null,
      "outputs": []
    },
    {
      "cell_type": "code",
      "source": [
        "# 2. (c) Arbitary Value Imputation\n",
        "# You can replace missing values with a custom value, like 0 or a placeholder such as -1.\n",
        "\n",
        "df['Age_arbitary_imputed'] = df['Age'].fillna(-1)\n",
        "print(df)"
      ],
      "metadata": {
        "id": "wlygd3MGfpRT"
      },
      "execution_count": null,
      "outputs": []
    },
    {
      "cell_type": "code",
      "source": [
        "# Frequent category imputation\n",
        "# Replace missing values in categorical coluns with the most frequent (mode) category\n",
        "\n",
        "df['Gender_frequent_imputed'] = df['Gender'].fillna(df['Gender'].mode()[0])\n",
        "print(df)"
      ],
      "metadata": {
        "id": "0g7y2THcfpOh"
      },
      "execution_count": null,
      "outputs": []
    }
  ]
}